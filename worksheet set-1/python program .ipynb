{
 "cells": [
  {
   "cell_type": "markdown",
   "id": "fecc771b",
   "metadata": {},
   "source": [
    "Factorial"
   ]
  },
  {
   "cell_type": "code",
   "execution_count": 1,
   "id": "75b8e85e",
   "metadata": {},
   "outputs": [
    {
     "name": "stdout",
     "output_type": "stream",
     "text": [
      "enter the num5\n",
      "120\n"
     ]
    }
   ],
   "source": [
    "n=int(input(\"enter the num\"))\n",
    "fact=1\n",
    "\n",
    "for i in range(1,n+1):\n",
    "    fact=fact*i\n",
    "print(fact)\n"
   ]
  },
  {
   "cell_type": "markdown",
   "id": "b1c7d37b",
   "metadata": {},
   "source": [
    "PRIME OR COMPOSITE"
   ]
  },
  {
   "cell_type": "code",
   "execution_count": 8,
   "id": "b7c0e619",
   "metadata": {},
   "outputs": [
    {
     "name": "stdout",
     "output_type": "stream",
     "text": [
      "enter any number4\n",
      "number is not prime\n"
     ]
    }
   ],
   "source": [
    "num=int(input(\"enter any number\"))\n",
    "if num>1:\n",
    "    for i in range(2,num):\n",
    "        if num%2==0:\n",
    "            print(\"number is not prime\")\n",
    "            break\n",
    "        else:\n",
    "            print(\"no is prime\")\n",
    "elif num==1 or num==0:\n",
    "    print(\"not prime or not composite\")\n"
   ]
  },
  {
   "cell_type": "markdown",
   "id": "0a32019d",
   "metadata": {},
   "source": [
    "String is pallindroe"
   ]
  },
  {
   "cell_type": "code",
   "execution_count": 14,
   "id": "b1211f61",
   "metadata": {},
   "outputs": [
    {
     "name": "stdout",
     "output_type": "stream",
     "text": [
      "enter the stringe\n",
      "string is pallindrome\n"
     ]
    }
   ],
   "source": [
    "str1=input(\"enter the string\")\n",
    "reverse=str1[::-1]\n",
    "\n",
    "if str1==reverse:\n",
    "    print(\"string is pallindrome\")\n",
    "else:\n",
    "    print(\"not pallindrome\")"
   ]
  },
  {
   "cell_type": "markdown",
   "id": "c37d3715",
   "metadata": {},
   "source": [
    "# 14.\tWrite a Python program to get the third side of right-angled triangle from two given sides."
   ]
  },
  {
   "cell_type": "code",
   "execution_count": 15,
   "id": "fb09f850",
   "metadata": {},
   "outputs": [
    {
     "name": "stdout",
     "output_type": "stream",
     "text": [
      "Enter base: 34\n",
      "Enter height: 23\n",
      "Enter angle: 60\n",
      "Hypotenuse = 41.048751503547585\n"
     ]
    }
   ],
   "source": [
    "import math\n",
    "\n",
    "a = float(input(\"Enter base: \"))\n",
    "b = float(input(\"Enter height: \"))\n",
    "x = float(input(\"Enter angle: \"))\n",
    "\n",
    "c = math.sqrt(a ** 2 + b ** 2)\n",
    "\n",
    "print(\"Hypotenuse =\", c)"
   ]
  },
  {
   "cell_type": "code",
   "execution_count": 17,
   "id": "cdf189e2",
   "metadata": {},
   "outputs": [
    {
     "name": "stdout",
     "output_type": "stream",
     "text": [
      "D: 1, a: 3, t: 2, a: 3,  : 1, t: 2, r: 1, a: 3, i: 2, n: 2, i: 2, n: 2, g: 1, "
     ]
    }
   ],
   "source": [
    "str1 = \"Data training\"\n",
    "\n",
    "for i in str1:\n",
    "    frequency = str1.count(i)\n",
    "    print(str(i) + \": \" + str(frequency), end=\", \")\n",
    "    "
   ]
  },
  {
   "cell_type": "code",
   "execution_count": null,
   "id": "0c237eb1",
   "metadata": {},
   "outputs": [],
   "source": []
  }
 ],
 "metadata": {
  "kernelspec": {
   "display_name": "Python 3 (ipykernel)",
   "language": "python",
   "name": "python3"
  },
  "language_info": {
   "codemirror_mode": {
    "name": "ipython",
    "version": 3
   },
   "file_extension": ".py",
   "mimetype": "text/x-python",
   "name": "python",
   "nbconvert_exporter": "python",
   "pygments_lexer": "ipython3",
   "version": "3.11.5"
  }
 },
 "nbformat": 4,
 "nbformat_minor": 5
}
